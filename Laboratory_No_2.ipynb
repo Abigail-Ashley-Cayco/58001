{
  "nbformat": 4,
  "nbformat_minor": 0,
  "metadata": {
    "colab": {
      "provenance": [],
      "authorship_tag": "ABX9TyOYu1Ky2Wy8a0/2GogV/izH",
      "include_colab_link": true
    },
    "kernelspec": {
      "name": "python3",
      "display_name": "Python 3"
    },
    "language_info": {
      "name": "python"
    }
  },
  "cells": [
    {
      "cell_type": "markdown",
      "metadata": {
        "id": "view-in-github",
        "colab_type": "text"
      },
      "source": [
        "<a href=\"https://colab.research.google.com/github/Abigail-Ashley-Cayco/OOP-58001/blob/main/Laboratory_No_2.ipynb\" target=\"_parent\"><img src=\"https://colab.research.google.com/assets/colab-badge.svg\" alt=\"Open In Colab\"/></a>"
      ]
    },
    {
      "cell_type": "markdown",
      "source": [
        "Laboratory No. 2"
      ],
      "metadata": {
        "id": "OGo94O6eHlgs"
      }
    },
    {
      "cell_type": "code",
      "source": [
        "import math\n",
        "class circle:\n",
        "    def __init__ (self,radius):\n",
        "      self.radius=radius\n",
        "      self.pi=math.pi\n",
        "    def perimeter(self):\n",
        "      return 2*self.pi*self.radius\n",
        "    def area(self):\n",
        "      return self.pi*(self.radius**2)\n",
        "    def display(self):\n",
        "      return print(\"The circle has a perimeter of: \", self.perimeter(), \", and an area of: \", self.area())    \n",
        "\n",
        "circle3=circle(float(input(\"Insert a radius: \")))\n",
        "circle3.display()"
      ],
      "metadata": {
        "colab": {
          "base_uri": "https://localhost:8080/"
        },
        "id": "qUjDX_9xaz-F",
        "outputId": "730c34a3-394d-4aa6-b764-00492556a25b"
      },
      "execution_count": 53,
      "outputs": [
        {
          "output_type": "stream",
          "name": "stdout",
          "text": [
            "Insert a radius: 5\n",
            "The circle has a perimeter of:  31.41592653589793 , and an area of:  78.53981633974483\n"
          ]
        }
      ]
    }
  ]
}