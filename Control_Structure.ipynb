{
  "nbformat": 4,
  "nbformat_minor": 0,
  "metadata": {
    "colab": {
      "provenance": [],
      "authorship_tag": "ABX9TyPMjvmo98HpUjzW5Ks7XY+G",
      "include_colab_link": true
    },
    "kernelspec": {
      "name": "python3",
      "display_name": "Python 3"
    },
    "language_info": {
      "name": "python"
    }
  },
  "cells": [
    {
      "cell_type": "markdown",
      "metadata": {
        "id": "view-in-github",
        "colab_type": "text"
      },
      "source": [
        "<a href=\"https://colab.research.google.com/github/Abigail-Ashley-Cayco/OOP-58001/blob/main/Control_Structure.ipynb\" target=\"_parent\"><img src=\"https://colab.research.google.com/assets/colab-badge.svg\" alt=\"Open In Colab\"/></a>"
      ]
    },
    {
      "cell_type": "markdown",
      "source": [
        "Conditional Statement\n",
        "\n"
      ],
      "metadata": {
        "id": "_JnoLJo-EQc6"
      }
    },
    {
      "cell_type": "code",
      "source": [
        "#if statement\n",
        "a=12\n",
        "b=100\n",
        "if b>a:\n",
        "  print(\"b is greater than a\")\n",
        "\n",
        "if 5>2:\n",
        "  print(\"five is greater than two\")"
      ],
      "metadata": {
        "colab": {
          "base_uri": "https://localhost:8080/"
        },
        "id": "BeIRfJyKEUWP",
        "outputId": "ec386040-71d3-4ee2-fd32-98a83bfab188"
      },
      "execution_count": 7,
      "outputs": [
        {
          "output_type": "stream",
          "name": "stdout",
          "text": [
            "b is greater than a\n",
            "five is greater than two\n"
          ]
        }
      ]
    },
    {
      "cell_type": "code",
      "source": [
        "#elif statement\n",
        "a=100\n",
        "b=50\n",
        "if a>b:\n",
        "  print (\"a is greater than b\")\n",
        "elif b>a:\n",
        "  print (\"b is greater than a\")"
      ],
      "metadata": {
        "colab": {
          "base_uri": "https://localhost:8080/"
        },
        "id": "3sUxdZIAE6lK",
        "outputId": "07ab3410-5bbf-4df5-f8ad-539bb097389e"
      },
      "execution_count": 11,
      "outputs": [
        {
          "output_type": "stream",
          "name": "stdout",
          "text": [
            "a is greater than b\n"
          ]
        }
      ]
    },
    {
      "cell_type": "code",
      "source": [
        "#else statement\n",
        "if a>b:\n",
        "  print(\"a is greater than b\")\n",
        "elif b>a:\n",
        "  print(\"b is greater than a\")\n",
        "else:\n",
        "  print(\"a and b are equal\")"
      ],
      "metadata": {
        "colab": {
          "base_uri": "https://localhost:8080/"
        },
        "id": "mcN211pvF3Kh",
        "outputId": "fac18ea9-8b03-455b-8966-def3c150c5bf"
      },
      "execution_count": 13,
      "outputs": [
        {
          "output_type": "stream",
          "name": "stdout",
          "text": [
            "a is greater than b\n"
          ]
        }
      ]
    },
    {
      "cell_type": "markdown",
      "source": [
        "Nested If"
      ],
      "metadata": {
        "id": "oqnTEBq7LB3q"
      }
    },
    {
      "cell_type": "code",
      "source": [
        "x = 41\n",
        "if x>10:\n",
        "  print(\"above ten,\")\n",
        "else:\n",
        "  print(\"but not above ten\")\n",
        "if x > 20:\n",
        "  print(\"and also above 20!\")\n",
        "else:\n",
        "  print(\"but not above 20\")\n",
        "if x > 30:\n",
        "  print(\"and also above 30!\")\n",
        "else:\n",
        "  print(\"but not above 30\")\n",
        "if x > 40:\n",
        "  print(\"and also above 40!\")\n",
        "else:\n",
        "  print(\"but not above 40\")\n",
        "if x < 50:\n",
        "  print(\"below 50\")\n",
        "else:\n",
        "  print(\"but not above 50\")"
      ],
      "metadata": {
        "colab": {
          "base_uri": "https://localhost:8080/"
        },
        "id": "_02XHYtPLF8x",
        "outputId": "a766ba89-4f06-4b6e-9dd6-59cafbbd49de"
      },
      "execution_count": 66,
      "outputs": [
        {
          "output_type": "stream",
          "name": "stdout",
          "text": [
            "above ten,\n",
            "and also above 20!\n",
            "and also above 30!\n",
            "and also above 40!\n",
            "below 50\n"
          ]
        }
      ]
    },
    {
      "cell_type": "markdown",
      "source": [
        "Example 1:"
      ],
      "metadata": {
        "id": "4IwW_s5oMGSZ"
      }
    },
    {
      "cell_type": "code",
      "source": [
        "x = int(input())\n",
        "if x<=17:\n",
        "  print(\"You are not qualified to vote\")\n",
        "else:\n",
        "  print(\"You are qualified to vote\")"
      ],
      "metadata": {
        "colab": {
          "base_uri": "https://localhost:8080/"
        },
        "id": "sc9L_BmfMLWx",
        "outputId": "c811470d-2d26-4818-b6fa-0ab32877d091"
      },
      "execution_count": 26,
      "outputs": [
        {
          "output_type": "stream",
          "name": "stdout",
          "text": [
            "100\n",
            "You are qualified to vote\n"
          ]
        }
      ]
    },
    {
      "cell_type": "markdown",
      "source": [
        "Example 2:"
      ],
      "metadata": {
        "id": "bn-XTrHVTljR"
      }
    },
    {
      "cell_type": "code",
      "source": [
        "x = int(input())\n",
        "if x >= 1:\n",
        "  print(\"The number is POSITIVE\")\n",
        "elif x==0:\n",
        "  print(\"The number is ZERO\")\n",
        "else:\n",
        "  print(\"The number is NEGATIVE\")"
      ],
      "metadata": {
        "colab": {
          "base_uri": "https://localhost:8080/"
        },
        "id": "KFRR2p3-N_ti",
        "outputId": "96ce8ae4-700d-4008-e562-42fbdda57e03"
      },
      "execution_count": 43,
      "outputs": [
        {
          "output_type": "stream",
          "name": "stdout",
          "text": [
            "0\n",
            "The number is ZERO\n"
          ]
        }
      ]
    },
    {
      "cell_type": "markdown",
      "source": [
        "Example 3:"
      ],
      "metadata": {
        "id": "Ap7J8z8GTpG5"
      }
    },
    {
      "cell_type": "code",
      "source": [
        "x = int(input())\n",
        "if x >= 70:\n",
        "  print(\"Passed\")\n",
        "elif x == 65 and x < 70:\n",
        "  print(\"Remedial\")\n",
        "elif x > 0:\n",
        "  print(\"Failed\")\n",
        "else:\n",
        "  print(\"Not Accepted\")"
      ],
      "metadata": {
        "colab": {
          "base_uri": "https://localhost:8080/"
        },
        "id": "nXhxVhhyP_u6",
        "outputId": "ab3df7ec-5197-429b-f339-d3f9e62df8dd"
      },
      "execution_count": 65,
      "outputs": [
        {
          "output_type": "stream",
          "name": "stdout",
          "text": [
            "-100\n",
            "Not Accepted\n"
          ]
        }
      ]
    }
  ]
}