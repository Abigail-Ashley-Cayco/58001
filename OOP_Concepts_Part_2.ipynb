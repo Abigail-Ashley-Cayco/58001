{
  "nbformat": 4,
  "nbformat_minor": 0,
  "metadata": {
    "colab": {
      "provenance": [],
      "authorship_tag": "ABX9TyMMHDEasoqWsODJeHViZMU2",
      "include_colab_link": true
    },
    "kernelspec": {
      "name": "python3",
      "display_name": "Python 3"
    },
    "language_info": {
      "name": "python"
    }
  },
  "cells": [
    {
      "cell_type": "markdown",
      "metadata": {
        "id": "view-in-github",
        "colab_type": "text"
      },
      "source": [
        "<a href=\"https://colab.research.google.com/github/Abigail-Ashley-Cayco/OOP-58001/blob/main/OOP_Concepts_Part_2.ipynb\" target=\"_parent\"><img src=\"https://colab.research.google.com/assets/colab-badge.svg\" alt=\"Open In Colab\"/></a>"
      ]
    },
    {
      "cell_type": "code",
      "source": [
        "#class with multiple objects\n",
        "vulture=Birds(\"Griffon vulture\")\n",
        "crane=Birds(\"Common Crane\")\n",
        "emu=Birds(\"Emu\")\n",
        "\n",
        "vulture.flying_birds()\n",
        "crane.flying_birds()\n",
        "emu.non_flying_birds()"
      ],
      "metadata": {
        "id": "br0HG9jZW73p"
      },
      "execution_count": null,
      "outputs": []
    },
    {
      "cell_type": "code",
      "source": [
        "class Birds:\n",
        "  def __init__(self,bird_name):\n",
        "    self.bird_name=bird_name\n",
        "  def flying_birds(self):\n",
        "    print(f\"{self.bird_name} flies above clouds\")\n",
        "  def non_flying_birds(self):\n",
        "    print(f\"{self.bird_name} is the national bird of the Philippines\")\n",
        "\n",
        "#class with multiple objects\n",
        "vulture= Birds(\"Griffon Vulture\")\n",
        "crane= Birds(\"Common Crane\")\n",
        "emu= Birds(\"Emu\")\n",
        "\n",
        "vulture.flying_birds()\n",
        "crane.flying_birds()\n",
        "emu.non_flying_birds()"
      ],
      "metadata": {
        "colab": {
          "base_uri": "https://localhost:8080/"
        },
        "id": "-zWFczVmXaX4",
        "outputId": "3f1276f6-29a6-42a9-c97e-de13e9349377"
      },
      "execution_count": 3,
      "outputs": [
        {
          "output_type": "stream",
          "name": "stdout",
          "text": [
            "Griffon Vulture flies above clouds\n",
            "Common Crane flies above clouds\n",
            "Emu is the national bird of the Philippines\n"
          ]
        }
      ]
    },
    {
      "cell_type": "code",
      "source": [
        "class foo:\n",
        "  def __init__(self,a,b):\n",
        "    self.a = a\n",
        "    self.b = b\n",
        "  def add(self):\n",
        "    return self.a+self.b\n",
        "foo_object = foo(3,4)\n",
        "foo_object.add()"
      ],
      "metadata": {
        "colab": {
          "base_uri": "https://localhost:8080/"
        },
        "id": "Je3hGSYgZJYC",
        "outputId": "a8f52369-2f7c-45b0-f466-bdab87bf9b38"
      },
      "execution_count": 6,
      "outputs": [
        {
          "output_type": "execute_result",
          "data": {
            "text/plain": [
              "7"
            ]
          },
          "metadata": {},
          "execution_count": 6
        }
      ]
    },
    {
      "cell_type": "code",
      "source": [
        "#Encapsulation\n",
        "class foo:\n",
        "  def __init__(self,a,b):\n",
        "    self.__a = a\n",
        "    self.__b = b\n",
        "  def add(self):\n",
        "    return self.__a+self.__b\n",
        "foo_object = foo(3,4)\n",
        "foo_object.add()\n",
        "foo_object.a = 5\n",
        "foo_object.add()"
      ],
      "metadata": {
        "colab": {
          "base_uri": "https://localhost:8080/"
        },
        "id": "q6Mry-96ZyBw",
        "outputId": "4363bb82-708b-4f41-ce06-c420599c99b5"
      },
      "execution_count": 12,
      "outputs": [
        {
          "output_type": "execute_result",
          "data": {
            "text/plain": [
              "7"
            ]
          },
          "metadata": {},
          "execution_count": 12
        }
      ]
    },
    {
      "cell_type": "code",
      "source": [
        "class Counter:\n",
        "  def __init__(self):\n",
        "    self.current=0\n",
        "  def increment(self):\n",
        "    self.current +=1\n",
        "  def value(self):\n",
        "    return self.current\n",
        "  def resseul(self):\n",
        "    self.current = 0\n",
        "\n",
        "counter = Counter()\n",
        "counter.increment()\n",
        "counter.value()"
      ],
      "metadata": {
        "colab": {
          "base_uri": "https://localhost:8080/"
        },
        "id": "LtvNjRxib013",
        "outputId": "a5c0fe91-4cd2-4d1f-c227-d853ee84c6bc"
      },
      "execution_count": 14,
      "outputs": [
        {
          "output_type": "execute_result",
          "data": {
            "text/plain": [
              "1"
            ]
          },
          "metadata": {},
          "execution_count": 14
        }
      ]
    },
    {
      "cell_type": "markdown",
      "source": [],
      "metadata": {
        "id": "HCOyYbP2etQn"
      }
    },
    {
      "cell_type": "code",
      "source": [
        "#inheritance\n",
        "class Person:\n",
        "  def __init__ (self,name,birthdate):\n",
        "   self.name = name\n",
        "   self.birthdate = birthdate\n",
        "  def display(self):\n",
        "    print(f\"My name is\", self.name)\n",
        "    print(f\"My birthdate is\", self.birthdate)\n",
        "\n",
        "class Student(Person):\n",
        "  pass\n",
        "class Teacher(Person):\n",
        "  pass\n",
        "\n",
        "student = Person(\"Abigail Ashley P. Cayco\", \"August 14, 2005\")\n",
        "student.display()\n",
        "teacher = Teacher(\"Ana\", \"February 14, 1990\")\n",
        "teacher.display()"
      ],
      "metadata": {
        "colab": {
          "base_uri": "https://localhost:8080/"
        },
        "id": "tMOn4KhTea1w",
        "outputId": "da1ff965-fc9e-4a96-ea48-4f895b69ca12"
      },
      "execution_count": 20,
      "outputs": [
        {
          "output_type": "stream",
          "name": "stdout",
          "text": [
            "My name is Abigail Ashley P. Cayco\n",
            "My birthdate is August 14, 2005\n",
            "My name is Ana\n",
            "My birthdate is February 14, 1990\n"
          ]
        }
      ]
    },
    {
      "cell_type": "code",
      "source": [
        "# create a class name Shapes (5 shapes)\n",
        "# attribute sides\n",
        "# create a function/method that displays the no. of sides of each shapes\n",
        "# apply inheritance and encapsulation\n",
        "\n",
        "class Shapes:\n",
        "  def __init__ (self, side, name):\n",
        "    self.__side=side\n",
        "    self.__name=name\n",
        "  def display(self):\n",
        "     print(f\"The shape is\", self.__name)\n",
        "     print(f\"and the number of sides is\", self.__side)\n",
        "\n",
        "class Triangle(Shapes):\n",
        "  pass\n",
        "class Square(Shapes):\n",
        "  pass\n",
        "class Octagon(Shapes):\n",
        "  pass\n",
        "class Hexagon(Shapes):\n",
        "  pass\n",
        "class Decagon(Shapes):\n",
        "  pass\n",
        "\n",
        "triangle = Shapes(\"Triangle\",\"3\")\n",
        "triangle.display()\n",
        "square = Shapes(\"Square\",\"4\")\n",
        "square.display()\n",
        "octagon = Shapes(\"Octagon\",\"8\")\n",
        "octagon.display()\n",
        "hexagon = Shapes(\"Hexagon\",\"6\")\n",
        "hexagon.display()\n",
        "decagon = Shapes(\"Decagon\",\"10\")\n",
        "decagon.display()"
      ],
      "metadata": {
        "colab": {
          "base_uri": "https://localhost:8080/"
        },
        "id": "NSzD0sJag0sn",
        "outputId": "5599e27f-edda-4aaf-e22f-3a417cf6665c"
      },
      "execution_count": 29,
      "outputs": [
        {
          "output_type": "stream",
          "name": "stdout",
          "text": [
            "The shape is 3\n",
            "and the number of sides is Triangle\n",
            "The shape is 4\n",
            "and the number of sides is Square\n",
            "The shape is 8\n",
            "and the number of sides is Octagon\n",
            "The shape is 6\n",
            "and the number of sides is Hexagon\n",
            "The shape is 10\n",
            "and the number of sides is Decagon\n"
          ]
        }
      ]
    }
  ]
}