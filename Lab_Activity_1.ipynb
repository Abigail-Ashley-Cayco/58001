{
  "nbformat": 4,
  "nbformat_minor": 0,
  "metadata": {
    "colab": {
      "provenance": [],
      "authorship_tag": "ABX9TyMYlrY2g4KwS50MSEMuISHN",
      "include_colab_link": true
    },
    "kernelspec": {
      "name": "python3",
      "display_name": "Python 3"
    },
    "language_info": {
      "name": "python"
    }
  },
  "cells": [
    {
      "cell_type": "markdown",
      "metadata": {
        "id": "view-in-github",
        "colab_type": "text"
      },
      "source": [
        "<a href=\"https://colab.research.google.com/github/Abigail-Ashley-Cayco/OOP-58001/blob/main/Lab_Activity_1.ipynb\" target=\"_parent\"><img src=\"https://colab.research.google.com/assets/colab-badge.svg\" alt=\"Open In Colab\"/></a>"
      ]
    },
    {
      "cell_type": "markdown",
      "source": [
        "**Lab Activity #1**"
      ],
      "metadata": {
        "id": "6rjG4gxNMHH9"
      }
    },
    {
      "cell_type": "code",
      "source": [
        "n=20\n",
        "totalnumbers= n\n",
        "sum=0\n",
        "average=0\n",
        "while n>=0:\n",
        "  sum+=n\n",
        "  n-=1\n",
        "else:\n",
        "  print(\"sum=\",sum)\n",
        "average= sum/totalnumbers\n",
        "print(\"Average=\",average)\n"
      ],
      "metadata": {
        "colab": {
          "base_uri": "https://localhost:8080/"
        },
        "id": "whQCe1NRMIt8",
        "outputId": "20113a40-9dec-475e-8ec1-e456b2b0c751"
      },
      "execution_count": 10,
      "outputs": [
        {
          "output_type": "stream",
          "name": "stdout",
          "text": [
            "sum= 210\n",
            "Average= 10.5\n"
          ]
        }
      ]
    }
  ]
}