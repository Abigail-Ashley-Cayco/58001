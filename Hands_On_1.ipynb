{
  "nbformat": 4,
  "nbformat_minor": 0,
  "metadata": {
    "colab": {
      "provenance": [],
      "authorship_tag": "ABX9TyM6IHp28MFeizRCGGRGHeWr",
      "include_colab_link": true
    },
    "kernelspec": {
      "name": "python3",
      "display_name": "Python 3"
    },
    "language_info": {
      "name": "python"
    }
  },
  "cells": [
    {
      "cell_type": "markdown",
      "metadata": {
        "id": "view-in-github",
        "colab_type": "text"
      },
      "source": [
        "<a href=\"https://colab.research.google.com/github/Abigail-Ashley-Cayco/OOP-58001/blob/main/Hands_On_1.ipynb\" target=\"_parent\"><img src=\"https://colab.research.google.com/assets/colab-badge.svg\" alt=\"Open In Colab\"/></a>"
      ]
    },
    {
      "cell_type": "code",
      "source": [
        "class person:\n",
        "  def __init__ (self,name, pre, mid, fin):\n",
        "    self.name = name\n",
        "    self.pre = pre\n",
        "    self.mid = mid\n",
        "    self.fin = fin\n",
        "  def grade(self):\n",
        "    return self.pre*0.30+self.mid*0.30+self.fin*0.40\n",
        "  def display(self):\n",
        "    print(f\"The average term grade of\", self.name,\"is\", self.pre)\n",
        "\n",
        "class Student1(person):\n",
        "  pass\n",
        "class Student2(person):\n",
        "  pass\n",
        "class Student3(person):\n",
        "  pass\n",
        "\n",
        "student1= person(\"Student 1\",\"90\",\"90\",\"95\")\n",
        "student1.display()\n",
        "student2= person(\"Student 2\",\"87\",\"75\",\"95\")\n",
        "student2.display()\n",
        "student3= person(\"Student 3\",\"90\",\"85\",\"85\")\n",
        "student3.display()"
      ],
      "metadata": {
        "colab": {
          "base_uri": "https://localhost:8080/"
        },
        "id": "l6YRZsHbb4z-",
        "outputId": "54a2663b-66db-4832-c6ec-0d34f0c3fb33"
      },
      "execution_count": 9,
      "outputs": [
        {
          "output_type": "stream",
          "name": "stdout",
          "text": [
            "The average term grade of Student 1 is 90\n",
            "The average term grade of Student 2 is 87\n",
            "The average term grade of Student 3 is 90\n"
          ]
        }
      ]
    }
  ]
}